{
 "cells": [
  {
   "cell_type": "markdown",
   "id": "18d4d10c-6238-47af-a07e-a7d82e0e14fa",
   "metadata": {},
   "source": [
    "# TEXT2KG Using AMR as Intermediate representation - Clean\n",
    "[ Insert brief intro to notebook ]\n",
    "## Loading WikiText Dataset\n",
    "\n",
    "The first step is loading a dataset containing the article. For our my use case, I will be loading the 'raw' version of WikiText (insertUrl)\n",
    "by leveraging HuggingFace dataset loader."
   ]
  },
  {
   "cell_type": "code",
   "execution_count": 1,
   "id": "100b6a81-6175-4551-89b4-d2381925888a",
   "metadata": {},
   "outputs": [
    {
     "name": "stderr",
     "output_type": "stream",
     "text": [
      "/home/riccardo/anaconda3/envs/Project1/lib/python3.8/site-packages/tqdm/auto.py:21: TqdmWarning: IProgress not found. Please update jupyter and ipywidgets. See https://ipywidgets.readthedocs.io/en/stable/user_install.html\n",
      "  from .autonotebook import tqdm as notebook_tqdm\n",
      "Downloading readme: 100%|██████████| 10.5k/10.5k [00:00<00:00, 26.7MB/s]\n",
      "/home/riccardo/anaconda3/envs/Project1/lib/python3.8/site-packages/scipy/__init__.py:146: UserWarning: A NumPy version >=1.16.5 and <1.23.0 is required for this version of SciPy (detected version 1.24.4\n",
      "  warnings.warn(f\"A NumPy version >={np_minversion} and <{np_maxversion}\"\n",
      "Downloading data: 100%|██████████| 733k/733k [00:00<00:00, 2.76MB/s]\n",
      "Downloading data: 100%|██████████| 6.36M/6.36M [00:01<00:00, 6.34MB/s]\n",
      "Downloading data: 100%|██████████| 657k/657k [00:00<00:00, 3.17MB/s]]\n",
      "Downloading data files: 100%|██████████| 3/3 [00:01<00:00,  2.01it/s]\n",
      "Extracting data files: 100%|██████████| 3/3 [00:00<00:00, 3072.75it/s]\n",
      "Generating test split: 100%|██████████| 4358/4358 [00:00<00:00, 282432.93 examples/s]\n",
      "Generating train split: 100%|██████████| 36718/36718 [00:00<00:00, 1186097.47 examples/s]\n",
      "Generating validation split: 100%|██████████| 3760/3760 [00:00<00:00, 1085903.95 examples/s]"
     ]
    },
    {
     "name": "stdout",
     "output_type": "stream",
     "text": [
      "{'text': ' = Valkyria Chronicles III = \\n'}\n"
     ]
    },
    {
     "name": "stderr",
     "output_type": "stream",
     "text": [
      "\n"
     ]
    }
   ],
   "source": [
    "from datasets import load_dataset\n",
    "\n",
    "wikitext_raw = load_dataset(\"wikitext\",'wikitext-2-raw-v1',split='train')\n",
    "## Print an example line. Index = 1 because index = 0 has an empty string. \n",
    "\n",
    "print(wikitext_raw[1]) "
   ]
  },
  {
   "cell_type": "markdown",
   "id": "3948a553-a3b9-4426-aa49-887aa0eef30d",
   "metadata": {},
   "source": [
    "## Extracting the articles' first paragraph and titles\n",
    "From the experimentation notebook and the information available on the WikiText Markup, we can define a logic that extracts the title and first section of each article from our dataset. "
   ]
  },
  {
   "cell_type": "code",
   "execution_count": 2,
   "id": "3fc24a01-cbb3-4c58-9fea-d64890b54991",
   "metadata": {},
   "outputs": [],
   "source": [
    "# Import regular expressions to find Headings, delimited by equal signs: == Heding 2 == etc...\n",
    "import re \n",
    "\n",
    "def extract_articles_info(wikitext, max_articles=None):\n",
    "    \"\"\"\n",
    "    Input: WikiText dataser loaded via 'datasets', optional number of max articles to extract\n",
    "    Returns: a list with titles, a list with paragraphs, count of articles extracted.\n",
    "    \"\"\"\n",
    "    # Initialize variables for titles and contents\n",
    "    titles = []\n",
    "    contents = []\n",
    "    article_counter = 0\n",
    "\n",
    "    # Initialize variables for the current article\n",
    "    content = ''\n",
    "    # Flag to indicate whether currently processing article content\n",
    "    in_article = False \n",
    "\n",
    "    # Iterate through the dataset\n",
    "    for row in range(len(wikitext)):\n",
    "        line = wikitext[row][\"text\"].strip()\n",
    "    \n",
    "        #if line.startswith('=') and we are OUTSIDE of the first section (here just shorthanded to 'article')\n",
    "        if re.match(r'^= [^=].*?=$', line) and not in_article:\n",
    "            # If the line starts with exactly one '= ', it's a title\n",
    "            titles.append(wikitext[row][\"text\"].strip())\n",
    "            content = ''\n",
    "            in_article = True\n",
    "            article_counter += 1\n",
    "        elif line.startswith('= = '):\n",
    "            # If the line starts with exactly two '==', it's the end of the section\n",
    "            if in_article:\n",
    "                contents.append(content.strip())\n",
    "                in_article = False\n",
    "        \n",
    "                if max_articles and article_counter >= max_articles:\n",
    "                    break\n",
    "        elif in_article:\n",
    "            # If in_article is True, it means we are still processing article content\n",
    "            content += wikitext[row][\"text\"].strip()\n",
    "\n",
    "    return titles, contents, article_counter "
   ]
  },
  {
   "cell_type": "code",
   "execution_count": 3,
   "id": "57b4bae9-a602-46f1-a8ec-d7ed3153f1c7",
   "metadata": {},
   "outputs": [],
   "source": [
    "# Extract the articles\n",
    "titles, contents, count = extract_articles_info(wikitext_raw)"
   ]
  },
  {
   "cell_type": "code",
   "execution_count": 4,
   "id": "aee1ff62-6405-4e76-a3d6-c8a602da3557",
   "metadata": {},
   "outputs": [
    {
     "name": "stdout",
     "output_type": "stream",
     "text": [
      "= Valkyria Chronicles III = \n",
      "\n",
      "Senjō no Valkyria 3 : Unrecorded Chronicles ( Japanese : 戦場のヴァルキュリア3 , lit . Valkyria of the Battlefield 3 ) , commonly referred to as Valkyria Chronicles III outside Japan , is a tactical role @-@ playing video game developed by Sega and Media.Vision for the PlayStation Portable . Released in January 2011 in Japan , it is the third game in the Valkyria series . Employing the same fusion of tactical and real @-@ time gameplay as its predecessors , the story runs parallel to the first game and follows the \" Nameless \" , a penal military unit serving the nation of Gallia during the Second Europan War who perform secret black operations and are pitted against the Imperial unit \" Calamaty Raven \" .The game began development in 2010 , carrying over a large portion of the work done on Valkyria Chronicles II . While it retained the standard features of the series , it also underwent multiple adjustments , such as making the game more forgiving for series newcomers . Character designer Raita Honjou and composer Hitoshi Sakimoto both returned from previous entries , along with Valkyria Chronicles II director Takeshi Ozawa . A large team of writers handled the script . The game 's opening theme was sung by May 'n .It met with positive sales in Japan , and was praised by both Japanese and western critics . After release , it received downloadable content , along with an expanded edition in November of that year . It was also adapted into manga and an original video animation series . Due to low sales of Valkyria Chronicles II , Valkyria Chronicles III was not localized , but a fan translation compatible with the game 's expanded edition was released in 2014 . Media.Vision would return to the franchise with the development of Valkyria : Azure Revolution for the PlayStation 4 . \n",
      "\n",
      "True\n"
     ]
    }
   ],
   "source": [
    "# To confirm we have extracted everything correctly:\n",
    "print(titles[0],'\\n')\n",
    "print(contents[0],'\\n')\n",
    "# And check we have the same number of paragraphs as titles\n",
    "if len(titles)==len(contents):\n",
    "    print('True')"
   ]
  },
  {
   "cell_type": "markdown",
   "id": "1fbf604e-252d-47c2-8cb4-87c434c5969b",
   "metadata": {},
   "source": [
    "## Parsing and storing the content.\n",
    "\n",
    "The plain text paragraphs are the starting point of the actual work. As seen in the experimentation, parsing on paragraph level is not as accurate as on the sentence level (this is not what AMR Parsers are trained for in general), hence we will have to feed sentences from out paragraphs to our parser. To achieve that, nltk tokenizer has been used. Parsing has been processed outside of the notebook and stored for ease of access in the follwing files:\n",
    "1) paragraph_level_graphs.pk1\n",
    "2) sentence_level_graphs.pk1\n",
    "3) sentence_level_graphs_ids.pk1 (updated version of sentence_level_graphs_meta.pk1 that includes id field)\n",
    "\n",
    "In the next step, a class Document is defined to store each of these as attributes of the class. This will help us building an object that will make it easier to operate on a per-document basis.\n",
    "We load the files above, together with the plain text paragraphs and sentences:"
   ]
  },
  {
   "cell_type": "code",
   "execution_count": 5,
   "id": "89c7c2f6-e8a1-45d8-b774-a1b3e3667cdb",
   "metadata": {},
   "outputs": [],
   "source": [
    "import nltk \n",
    "import pickle\n",
    "# Importing Vulcan modules to create an object. \n",
    "from vulcan.vulcan.pickle_builder.pickle_builder import PickleBuilder\n",
    "from vulcan.vulcan.data_handling.format_names import FORMAT_NAME_NLTK_TREE, FORMAT_NAME_STRING, FORMAT_NAME_TOKEN, FORMAT_NAME_GRAPH_STRING\n",
    "import subprocess\n",
    "from io import StringIO\n",
    "\n",
    "## Import the Document class\n",
    "\n",
    "from classDocument import Document\n",
    "\n",
    "# We would like to store, per article:\n",
    "\"\"\"\n",
    "1. Title\n",
    "2. Paragraph\n",
    "3. Paragraph level AMR ( As discussed, this is less accurate but we can store it anyway since we have it.)\n",
    "4. (Sentence, Sentence AMR, Sentence AMR with metadata)\n",
    "5. RDF Graphs per sentence. This will be generated with while processing the docs. \n",
    "\"\"\"\n",
    "## Let us create a Class representing each Document\n",
    "\n",
    "# Initializing the variables to genereate a Documents objects\n",
    "\n",
    "titles     = titles   # This is from above \n",
    "paragraphs = contents # Also from above\n",
    "sentences  = [nltk.sent_tokenize(paragraph) for paragraph in contents] # List comprehension to get sentences\n",
    "# Load pickled data:\n",
    "with open('paragraph_level_graphs.pk1', 'rb') as file:\n",
    "    paras_amr = pickle.load(file)\n",
    "with open('sentence_level_graphs.pk1', 'rb') as file:\n",
    "    sents_amr = pickle.load(file)\n",
    "with open('sentence_level_graphs_ids.pk1','rb') as file:\n",
    "    sents_amr_meta = pickle.load(file)"
   ]
  },
  {
   "cell_type": "markdown",
   "id": "b13c3712",
   "metadata": {},
   "source": [
    "With all the necessary data loaded, we can iterate over each article and build our document objects"
   ]
  },
  {
   "cell_type": "code",
   "execution_count": 6,
   "id": "e7b02526-5428-4ba1-89be-bce6416cc843",
   "metadata": {},
   "outputs": [],
   "source": [
    "all_documents = []\n",
    "\n",
    "# Messy variable naming!! \n",
    "for title, paragraph, p_amr, sents, s_amrs, s_amr_meta in zip(titles, paragraphs, paras_amr, sentences, sents_amr, sents_amr_meta):\n",
    "    sentences = list(zip(sents, s_amrs, s_amr_meta))\n",
    "    doc = Document(title, paragraph, p_amr, sentences)\n",
    "    all_documents.append(doc)\n",
    "with open(\"all_documents.pickle\", 'wb') as file:\n",
    "    pickle.dump(all_documents, file)"
   ]
  },
  {
   "cell_type": "code",
   "execution_count": 7,
   "id": "b2eb3fb4",
   "metadata": {},
   "outputs": [
    {
     "name": "stderr",
     "output_type": "stream",
     "text": [
      "/home/riccardo/anaconda3/envs/Project1/lib/python3.8/site-packages/torch/utils/data/sampler.py:64: UserWarning: `data_source` argument is not used and will be removed in 2.2.0.You may still have custom implementation that utilizes it.\n",
      "  warnings.warn(\"`data_source` argument is not used and will be removed in 2.2.0.\"\n"
     ]
    },
    {
     "name": "stdout",
     "output_type": "stream",
     "text": [
      "{'rel-0': [(3, 'o3'), (3, 's'), (4, 'ii'), (7, 'ii'), (8, 'ii'), (9, 'ii')], 'rel-1': [(2, 'g'), (4, 'g')], 'rel-2': [(2, 'ii'), (4, 's2')]}\n",
      "# ::id article1.sent3\n",
      "# ::snt Released in January 2011 in Japan , it is the third game in the Valkyria series .\n",
      "(g / game\n",
      "      :ord (o / ordinal-entity\n",
      "            :value 3)\n",
      "      :part-of (g2 / game\n",
      "            :name (n / name\n",
      "                  :op1 \"Valkyria\"\n",
      "                  :op2 \"series\"))\n",
      "      :domain (ii / it)\n",
      "      :ARG1-of (r / release-01\n",
      "            :location (c / country\n",
      "                  :name (n2 / name\n",
      "                        :op1 \"Japan\"))\n",
      "            :time (d / date-entity\n",
      "                  :month 1\n",
      "                  :year 2011)))\n"
     ]
    }
   ],
   "source": [
    "\n",
    "doc0 = all_documents[0]\n",
    "doc0.coreference_clusters\n",
    "doc0.resolve_coreference()\n",
    "print(doc0.coreference_clusters)\n",
    "print(doc0.sentences[2][2])"
   ]
  },
  {
   "cell_type": "code",
   "execution_count": 8,
   "id": "8d700ecc",
   "metadata": {},
   "outputs": [
    {
     "name": "stdout",
     "output_type": "stream",
     "text": [
      "[]\n"
     ]
    }
   ],
   "source": [
    "print(all_documents[0].sentences_rdf)"
   ]
  },
  {
   "cell_type": "code",
   "execution_count": 9,
   "id": "16692c8d-ba19-4b18-919c-084fc25e2abf",
   "metadata": {
    "scrolled": true
   },
   "outputs": [
    {
     "name": "stdout",
     "output_type": "stream",
     "text": [
      "= Valkyria Chronicles III =\n",
      "Released in January 2011 in Japan , it is the third game in the Valkyria series .\n",
      "# ::id article1.sent3\n",
      "# ::snt Released in January 2011 in Japan , it is the third game in the Valkyria series .\n",
      "(g / game\n",
      "      :ord (o / ordinal-entity\n",
      "            :value 3)\n",
      "      :part-of (g2 / game\n",
      "            :name (n / name\n",
      "                  :op1 \"Valkyria\"\n",
      "                  :op2 \"series\"))\n",
      "      :domain (ii / it)\n",
      "      :ARG1-of (r / release-01\n",
      "            :location (c / country\n",
      "                  :name (n2 / name\n",
      "                        :op1 \"Japan\"))\n",
      "            :time (d / date-entity\n",
      "                  :month 1\n",
      "                  :year 2011)))\n"
     ]
    }
   ],
   "source": [
    "# Print doc Title\n",
    "print(all_documents[0].title)\n",
    "# Print plain text sentence\n",
    "print(all_documents[0].sentences[2][0])\n",
    "# Print sentence's AMR with metadata (index 2, change to 1 for no metadata)\n",
    "print(all_documents[0].sentences[2][2])"
   ]
  },
  {
   "cell_type": "markdown",
   "id": "f5295f12",
   "metadata": {},
   "source": [
    "### Next, we store all such data in a format that ca be handled by Vulcan. \n",
    "This step can be ignored when rerunning the notebook. "
   ]
  },
  {
   "cell_type": "code",
   "execution_count": 10,
   "id": "5c18d1cd-2f21-4edd-920c-59f291074fb6",
   "metadata": {},
   "outputs": [],
   "source": [
    "# Setting up the pickle object. \n",
    "pickler = PickleBuilder({\"article title\": FORMAT_NAME_STRING,\n",
    "                             \"paragraph\": FORMAT_NAME_STRING,\n",
    "                             \"paragraph AMR\": FORMAT_NAME_GRAPH_STRING,\n",
    "                             \"sentence\": FORMAT_NAME_STRING,\n",
    "                             \"sentence AMR\": FORMAT_NAME_GRAPH_STRING}\n",
    "                            )\n",
    "\n",
    "for doc in all_documents:\n",
    "    for sent in doc.sentences:\n",
    "        pickler.add_instances_by_name(\n",
    "            {\"article title\": doc.title,\n",
    "             \"paragraph\": doc.paragraph,\n",
    "             \"paragraph AMR\": doc.paragraph_amr,\n",
    "             \"sentence\": sent[0],\n",
    "             \"sentence AMR\": sent[1]}\n",
    "        )\n",
    "pickler.write('processed_wikitext.pickle')"
   ]
  },
  {
   "cell_type": "markdown",
   "metadata": {},
   "source": [
    "# AMR-LD\n",
    "\n",
    "Using and adapted version of AMR-LD, we can convert AMR graphs into RDF files directly from a Notebook. For a more precise understanding of how this process is carried out, please refer to the classDocument.py file, which contains the methods that take care of the conversion. Here, it suffices to know that the script uses Standard Input and Standard output to activate the AMR-LD module, using as inputs the data stored in a Document object. The conversion can be operated on a single sentence in the document, however, this is prone to error as RDF-parsed sentences are appended to a list in the Object as illustrated below:\n"
   ]
  },
  {
   "cell_type": "code",
   "execution_count": 11,
   "id": "ee5519c4",
   "metadata": {},
   "outputs": [
    {
     "name": "stdout",
     "output_type": "stream",
     "text": [
      "@prefix amr-core: <http://amr.isi.edu/rdf/core-amr#> .\n",
      "@prefix amr-terms: <http://amr.isi.edu/rdf/amr-terms#> .\n",
      "@prefix entity-types: <http://amr.isi.edu/entity-types#> .\n",
      "@prefix propbank: <http://amr.isi.edu/frames/ld/v1.2.2/> .\n",
      "@prefix rdfs: <http://www.w3.org/2000/01/rdf-schema#> .\n",
      "\n",
      "amr-core:Concept a rdfs:Class ;\n",
      "    rdfs:label \"AMR-Concept\" .\n",
      "\n",
      "amr-core:Role a rdfs:Class ;\n",
      "    rdfs:label \"AMR-Role\" .\n",
      "\n",
      "<http://amr.isi.edu/amr_data/article1.sent6#c2> a propbank:compose-01 ;\n",
      "    propbank:compose-01.ARG0 <http://amr.isi.edu/amr_data/article1.sent6#p2> .\n",
      "\n",
      "<http://amr.isi.edu/amr_data/article1.sent6#d> a propbank:design-01 ;\n",
      "    propbank:design-01.ARG0 <http://amr.isi.edu/amr_data/article1.sent6#p> ;\n",
      "    propbank:design-01.ARG1 <http://amr.isi.edu/amr_data/article1.sent6#c> .\n",
      "\n",
      "<http://amr.isi.edu/amr_data/article1.sent6#h> a propbank:have-org-role-91 ;\n",
      "    propbank:have-org-role-91.ARG0 <http://amr.isi.edu/amr_data/article1.sent6#p4> ;\n",
      "    propbank:have-org-role-91.ARG1 <http://amr.isi.edu/amr_data/article1.sent6#b2> ;\n",
      "    propbank:have-org-role-91.ARG2 <http://amr.isi.edu/amr_data/article1.sent6#d2> .\n",
      "\n",
      "<http://amr.isi.edu/amr_data/article1.sent6#root01> a amr-core:AMR ;\n",
      "    amr-core:has-id \"article1.sent6\" ;\n",
      "    amr-core:has-sentence \"Character designer Raita Honjou and composer Hitoshi Sakimoto both returned from previous entries , along with Valkyria Chronicles II director Takeshi Ozawa .\" ;\n",
      "    amr-core:root <http://amr.isi.edu/amr_data/article1.sent6#r> .\n",
      "\n",
      "propbank:compose-01.ARG0 a propbank:FrameRole .\n",
      "\n",
      "propbank:design-01.ARG0 a propbank:FrameRole .\n",
      "\n",
      "propbank:design-01.ARG1 a propbank:FrameRole .\n",
      "\n",
      "propbank:have-org-role-91.ARG0 a propbank:FrameRole .\n",
      "\n",
      "propbank:have-org-role-91.ARG1 a propbank:FrameRole .\n",
      "\n",
      "propbank:have-org-role-91.ARG2 a propbank:FrameRole .\n",
      "\n",
      "propbank:return-01.ARG1 a propbank:FrameRole .\n",
      "\n",
      "propbank:return-01.ARG3 a propbank:FrameRole .\n",
      "\n",
      "amr-terms:accompanier a amr-core:Role .\n",
      "\n",
      "amr-terms:mod a amr-core:Role .\n",
      "\n",
      "amr-terms:op1 a amr-core:Role .\n",
      "\n",
      "amr-terms:op2 a amr-core:Role .\n",
      "\n",
      "amr-terms:time a amr-core:Role .\n",
      "\n",
      "<http://amr.isi.edu/amr_data/article1.sent6#a> a amr-core:and ;\n",
      "    amr-terms:mod <http://amr.isi.edu/amr_data/article1.sent6#b> ;\n",
      "    amr-terms:op1 <http://amr.isi.edu/amr_data/article1.sent6#p> ;\n",
      "    amr-terms:op2 <http://amr.isi.edu/amr_data/article1.sent6#p2> .\n",
      "\n",
      "<http://amr.isi.edu/amr_data/article1.sent6#b> a amr-terms:both .\n",
      "\n",
      "<http://amr.isi.edu/amr_data/article1.sent6#b2> a entity-types:book ;\n",
      "    rdfs:label \"Valkyria Chronicles II\" .\n",
      "\n",
      "<http://amr.isi.edu/amr_data/article1.sent6#c> a amr-terms:character .\n",
      "\n",
      "<http://amr.isi.edu/amr_data/article1.sent6#d2> a amr-terms:director .\n",
      "\n",
      "<http://amr.isi.edu/amr_data/article1.sent6#e> a amr-terms:entry ;\n",
      "    amr-terms:time <http://amr.isi.edu/amr_data/article1.sent6#p3> .\n",
      "\n",
      "<http://amr.isi.edu/amr_data/article1.sent6#p3> a amr-terms:previous .\n",
      "\n",
      "<http://amr.isi.edu/amr_data/article1.sent6#r> a propbank:return-01 ;\n",
      "    propbank:return-01.ARG1 <http://amr.isi.edu/amr_data/article1.sent6#a> ;\n",
      "    propbank:return-01.ARG3 <http://amr.isi.edu/amr_data/article1.sent6#e> ;\n",
      "    amr-terms:accompanier <http://amr.isi.edu/amr_data/article1.sent6#p4> .\n",
      "\n",
      "entity-types:book a amr-core:NamedEntity .\n",
      "\n",
      "propbank:compose-01 a amr-core:Frame .\n",
      "\n",
      "propbank:design-01 a amr-core:Frame .\n",
      "\n",
      "propbank:have-org-role-91 a amr-core:Frame .\n",
      "\n",
      "propbank:return-01 a amr-core:Frame .\n",
      "\n",
      "amr-terms:both a amr-core:Concept .\n",
      "\n",
      "amr-terms:character a amr-core:Concept .\n",
      "\n",
      "amr-terms:director a amr-core:Concept .\n",
      "\n",
      "amr-terms:entry a amr-core:Concept .\n",
      "\n",
      "amr-terms:previous a amr-core:Concept .\n",
      "\n",
      "amr-core:and a amr-core:Concept .\n",
      "\n",
      "<http://amr.isi.edu/amr_data/article1.sent6#p> a entity-types:person ;\n",
      "    rdfs:label \"Raita Honjou\" .\n",
      "\n",
      "<http://amr.isi.edu/amr_data/article1.sent6#p2> a entity-types:person ;\n",
      "    rdfs:label \"Hitoshi Sakimoto\" .\n",
      "\n",
      "<http://amr.isi.edu/amr_data/article1.sent6#p4> a entity-types:person ;\n",
      "    rdfs:label \"Takeshi Ozawa\" .\n",
      "\n",
      "amr-core:NamedEntity a amr-core:Concept ;\n",
      "    rdfs:label \"AMR-EntityType\",\n",
      "        \"AMR-Term\" .\n",
      "\n",
      "entity-types:person a amr-core:NamedEntity .\n",
      "\n",
      "amr-core:Frame a amr-core:Concept ;\n",
      "    rdfs:label \"AMR-PropBank-Frame\" .\n",
      "\n",
      "propbank:FrameRole a amr-core:Role ;\n",
      "    rdfs:label \"AMR-PropBank-Role\" .\n",
      "\n",
      "\n"
     ]
    }
   ],
   "source": [
    "import pickle\n",
    "from rdflib import Namespace\n",
    "from classDocument import Document\n",
    "# Load all_documents from the pickle file\n",
    "\n",
    "with open(\"all_documents.pickle\", 'rb') as file:\n",
    "    all_documents = pickle.load(file)\n",
    "\n",
    "# Assign a document to a variable\n",
    "doc0 = all_documents[0]\n",
    "\n",
    "# Convert Sentence of index 5 to rdf \n",
    "doc0.convert_amr_to_rdf(5)\n",
    "\n",
    "# Access converted sentence \n",
    "print(doc0.sentences_rdf[0])\n"
   ]
  },
  {
   "cell_type": "code",
   "execution_count": 12,
   "id": "64d436f8",
   "metadata": {},
   "outputs": [
    {
     "name": "stdout",
     "output_type": "stream",
     "text": [
      "Senjō no Valkyria 3 : Unrecorded Chronicles ( Japanese : 戦場のヴァルキュリア3 , lit . Valkyria of the Battlefield 3 ) , commonly referred to as Valkyria Chronicles III outside Japan , is a tactical role @-@ playing video game developed by Sega and Media.Vision for the PlayStation Portable . Released in January 2011 in Japan , it is the third game in the Valkyria series . Employing the same fusion of tactical and real @-@ time gameplay as its predecessors , the story runs parallel to the first game and follows the \" Nameless \" , a penal military unit serving the nation of Gallia during the Second Europan War who perform secret black operations and are pitted against the Imperial unit \" Calamaty Raven \" .The game began development in 2010 , carrying over a large portion of the work done on Valkyria Chronicles II . While it retained the standard features of the series , it also underwent multiple adjustments , such as making the game more forgiving for series newcomers . Character designer Raita Honjou and composer Hitoshi Sakimoto both returned from previous entries , along with Valkyria Chronicles II director Takeshi Ozawa . A large team of writers handled the script . The game 's opening theme was sung by May 'n .It met with positive sales in Japan , and was praised by both Japanese and western critics . After release , it received downloadable content , along with an expanded edition in November of that year . It was also adapted into manga and an original video animation series . Due to low sales of Valkyria Chronicles II , Valkyria Chronicles III was not localized , but a fan translation compatible with the game 's expanded edition was released in 2014 . Media.Vision would return to the franchise with the development of Valkyria : Azure Revolution for the PlayStation 4 .\n"
     ]
    }
   ],
   "source": [
    "print(doc0.paragraph)"
   ]
  },
  {
   "cell_type": "markdown",
   "id": "a308ead7",
   "metadata": {},
   "source": [
    "Hence, the converting sentence of Index 5 in a document will append sentence 5's RDF to the object's RDF list at index 0, which can easily result in erros. The recommended method is to apply document level conversion, as follows:\n"
   ]
  },
  {
   "cell_type": "code",
   "execution_count": 13,
   "id": "0b684009",
   "metadata": {},
   "outputs": [
    {
     "name": "stdout",
     "output_type": "stream",
     "text": [
      "@prefix amr-core: <http://amr.isi.edu/rdf/core-amr#> .\n",
      "@prefix amr-terms: <http://amr.isi.edu/rdf/amr-terms#> .\n",
      "@prefix entity-types: <http://amr.isi.edu/entity-types#> .\n",
      "@prefix propbank: <http://amr.isi.edu/frames/ld/v1.2.2/> .\n",
      "@prefix rdfs: <http://www.w3.org/2000/01/rdf-schema#> .\n",
      "\n",
      "amr-core:Concept a rdfs:Class ;\n",
      "    rdfs:label \"AMR-Concept\" .\n",
      "\n",
      "amr-core:Role a rdfs:Class ;\n",
      "    rdfs:label \"AMR-Role\" .\n",
      "\n",
      "<http://amr.isi.edu/amr_data/article1.sent1#l2> a propbank:light-04 ;\n",
      "    propbank:light-04.ARG1 <http://amr.isi.edu/amr_data/article1.sent1#b2> .\n",
      "\n",
      "<http://amr.isi.edu/amr_data/article1.sent1#root01> a amr-core:AMR ;\n",
      "    amr-core:has-id \"article1.sent1\" ;\n",
      "    amr-core:has-sentence \"Senjō no Valkyria 3 : Unrecorded Chronicles ( Japanese : 戦場のヴァルキュリア3 , lit .\" ;\n",
      "    amr-core:root <http://amr.isi.edu/amr_data/article1.sent1#t> .\n",
      "\n",
      "propbank:light-04.ARG1 a propbank:FrameRole .\n",
      "\n",
      "propbank:title-01.ARG1 a propbank:FrameRole .\n",
      "\n",
      "propbank:title-01.ARG2 a propbank:FrameRole .\n",
      "\n",
      "amr-terms:medium a amr-core:Role .\n",
      "\n",
      "<http://amr.isi.edu/amr_data/article1.sent1#b> a entity-types:book ;\n",
      "    rdfs:label \"Senjō no Valkyria 3\" .\n",
      "\n",
      "<http://amr.isi.edu/amr_data/article1.sent1#l> a entity-types:language ;\n",
      "    rdfs:label \"Japanese\" .\n",
      "\n",
      "<http://amr.isi.edu/amr_data/article1.sent1#t> a propbank:title-01 ;\n",
      "    propbank:title-01.ARG1 <http://amr.isi.edu/amr_data/article1.sent1#b> ;\n",
      "    propbank:title-01.ARG2 <http://amr.isi.edu/amr_data/article1.sent1#b2> .\n",
      "\n",
      "entity-types:language a amr-core:NamedEntity .\n",
      "\n",
      "propbank:light-04 a amr-core:Frame .\n",
      "\n",
      "propbank:title-01 a amr-core:Frame .\n",
      "\n",
      "<http://amr.isi.edu/amr_data/article1.sent1#b2> a entity-types:book ;\n",
      "    rdfs:label \"Unrecorded Chronicles\" ;\n",
      "    amr-terms:medium <http://amr.isi.edu/amr_data/article1.sent1#l> .\n",
      "\n",
      "entity-types:book a amr-core:NamedEntity .\n",
      "\n",
      "amr-core:Frame a amr-core:Concept ;\n",
      "    rdfs:label \"AMR-PropBank-Frame\" .\n",
      "\n",
      "amr-core:NamedEntity a amr-core:Concept ;\n",
      "    rdfs:label \"AMR-EntityType\",\n",
      "        \"AMR-Term\" .\n",
      "\n",
      "propbank:FrameRole a amr-core:Role ;\n",
      "    rdfs:label \"AMR-PropBank-Role\" .\n",
      "\n",
      "\n"
     ]
    }
   ],
   "source": [
    "with open(\"all_documents.pickle\", 'rb') as file:\n",
    "    all_documents = pickle.load(file)\n",
    "doc0 = all_documents[0]\n",
    "# Convert all sentences to rdf \n",
    "doc0.all_sentences_to_rdf()\n",
    "# Access the ordered list of RDF senteces\n",
    "print(doc0.sentences_rdf[0])"
   ]
  },
  {
   "cell_type": "markdown",
   "id": "e29c68df",
   "metadata": {},
   "source": [
    "It is also possible to visualize a sentence's RDF file in a graph. For this purpose, the library pyvis has been utilized, with a method dfined outside of the class 'Document' in the claddDocument.py module"
   ]
  },
  {
   "cell_type": "code",
   "execution_count": 14,
   "id": "3f4d6ccf",
   "metadata": {},
   "outputs": [
    {
     "name": "stdout",
     "output_type": "stream",
     "text": [
      "Sentence_visualization.html\n"
     ]
    }
   ],
   "source": [
    "# Import the method \n",
    "from classDocument import visualize_rdf_graph\n",
    "\n",
    "## Assign the sentence's RDF to a variable\n",
    "sentence_rdf = doc0.sentences_rdf[0]\n",
    "\n",
    "# Visualize with the appropriate method, inputting the RDF file and a filename. \n",
    "# Access the visualization by opening the generated .html file in a web browser.\n",
    "visualize_rdf_graph(sentence_rdf, \"Sentence_visualization.html\")\n"
   ]
  },
  {
   "cell_type": "markdown",
   "id": "143994ea",
   "metadata": {},
   "source": [
    "With sentence-level RDF representation, we can generate a Document-level RDF representation by joining all the RDFs together. Before doing that, we want to identifies variables across sentences that represent the same entity. To this end, the AMR-coref module is used. "
   ]
  },
  {
   "cell_type": "code",
   "execution_count": 15,
   "id": "71a0c867",
   "metadata": {},
   "outputs": [
    {
     "name": "stderr",
     "output_type": "stream",
     "text": [
      "/home/riccardo/anaconda3/envs/Project1/lib/python3.8/site-packages/torch/utils/data/sampler.py:64: UserWarning: `data_source` argument is not used and will be removed in 2.2.0.You may still have custom implementation that utilizes it.\n",
      "  warnings.warn(\"`data_source` argument is not used and will be removed in 2.2.0.\"\n"
     ]
    },
    {
     "name": "stdout",
     "output_type": "stream",
     "text": [
      "Key: rel-0\n",
      "  - Sentence id 3: operation | variable name:o3\n",
      "  - Sentence id 3: story | variable name:s\n",
      "  - Sentence id 4: it | variable name:ii\n",
      "  - Sentence id 7: it | variable name:ii\n",
      "  - Sentence id 8: it | variable name:ii\n",
      "  - Sentence id 9: it | variable name:ii\n",
      "Key: rel-1\n",
      "  - Sentence id 2: game | variable name:g\n",
      "  - Sentence id 4: game | variable name:g\n",
      "Key: rel-2\n",
      "  - Sentence id 2: it | variable name:ii\n",
      "  - Sentence id 4: series | variable name:s2\n"
     ]
    }
   ],
   "source": [
    "# Resolve the coreference on the document\n",
    "doc0.resolve_coreference()\n",
    "# Print the coreferencing variable and clusters. \n",
    "doc0.print_coreference_clusters()"
   ]
  },
  {
   "cell_type": "markdown",
   "id": "89a3c405",
   "metadata": {},
   "source": [
    "Once the coreferences are resolved, we can proceed to create a Document-level graph that includes all the information about the coreferencing entities:"
   ]
  },
  {
   "cell_type": "code",
   "execution_count": 16,
   "id": "034875f1",
   "metadata": {},
   "outputs": [
    {
     "name": "stderr",
     "output_type": "stream",
     "text": [
      "/home/riccardo/anaconda3/envs/Project1/lib/python3.8/site-packages/torch/utils/data/sampler.py:64: UserWarning: `data_source` argument is not used and will be removed in 2.2.0.You may still have custom implementation that utilizes it.\n",
      "  warnings.warn(\"`data_source` argument is not used and will be removed in 2.2.0.\"\n"
     ]
    }
   ],
   "source": [
    "# Joing all the RDFs in a single graph, including the coreference clusters information\n",
    "g = doc0.link_coreference_in_rdf()"
   ]
  },
  {
   "cell_type": "markdown",
   "metadata": {},
   "source": [
    "# Querying \n",
    "\n",
    "## Q1\n",
    "\n",
    "Similarly, we can check if and how we can query such file using SPARQL. I have handcrafted the query from the perspective of a user that wants to know where and when the videogame was released. Here's a breief explanation of how the query works:\n",
    "\n",
    "- The query starts by selecting  game entities and retrieves their label.\n",
    "- It then connects to the part of the game (because we know, from graph, that there are g and g2)\n",
    "- Next, it moves to the release entity associated with the game.\n",
    "- It retrieves the label of the location where the game was released.\n",
    "- Finally, it retrieves the month and year of the release date directly from the time entity.\n",
    "\n",
    "The query has to be handcrafted to reflect the structure of the RDF database and the relationships defined by the AMR meta-model. "
   ]
  },
  {
   "cell_type": "code",
   "execution_count": 17,
   "id": "3b42216c",
   "metadata": {},
   "outputs": [],
   "source": [
    "import pickle\n",
    "from rdflib import Namespace\n",
    "from classDocument import Document\n",
    "# Load all_documents from the pickle file\n",
    "\n",
    "with open(\"all_documents.pickle\", 'rb') as file:\n",
    "    all_documents = pickle.load(file)\n"
   ]
  },
  {
   "cell_type": "code",
   "execution_count": 18,
   "id": "61d4ec0e",
   "metadata": {},
   "outputs": [
    {
     "name": "stdout",
     "output_type": "stream",
     "text": [
      "(rdflib.term.Literal('PlayStation Portable'),)\n",
      "(rdflib.term.Literal('Valkyria of the Battlefield 3'),)\n",
      "(rdflib.term.Literal('Valkyria Chronicles III'),)\n",
      "(rdflib.term.Literal('Valkyria series'),)\n",
      "(rdflib.term.Literal('Valkyria Chronicles II'),)\n",
      "(rdflib.term.Literal('Valkyria Chronicles II'),)\n",
      "(rdflib.term.Literal('Valkyria Azure Revolution'),)\n",
      "(rdflib.term.Literal('PS4'),)\n"
     ]
    }
   ],
   "source": [
    "from rdflib import Namespace\n",
    "\n",
    "# Example SPARQL query\n",
    "sparql_query = \"\"\"\n",
    "    # Select information about a game's release\n",
    "    SELECT  ?Label\n",
    "    WHERE {\n",
    "        # Start with the game entity\n",
    "        ?game a entity-types:game ;\n",
    "            rdfs:label ?Label ;   # Retrieve the label of the series\n",
    "\n",
    "    }\n",
    "\"\"\"\n",
    "\n",
    "# Execute the query\n",
    "results = g.query(sparql_query, initNs={\n",
    "    'amr-core': Namespace(\"http://amr.isi.edu/rdf/core-amr#\"),\n",
    "    'amr-terms': Namespace(\"http://amr.isi.edu/rdf/amr-terms#\"),\n",
    "    'entity-types': Namespace(\"http://amr.isi.edu/entity-types#\"),\n",
    "    'amr-data': Namespace(\"http://amr.isi.edu/amr_data#\"),\n",
    "    'propbank': Namespace(\"http://amr.isi.edu/frames/ld/v1.2.2/\")\n",
    "})\n",
    "\n",
    "# Print the results\n",
    "for row in results:\n",
    "    print(row)\n"
   ]
  },
  {
   "cell_type": "code",
   "execution_count": 19,
   "metadata": {},
   "outputs": [
    {
     "name": "stdout",
     "output_type": "stream",
     "text": [
      "(rdflib.term.Literal('Valkyria series'), rdflib.term.Literal('Japan'), rdflib.term.Literal('1'), rdflib.term.Literal('2011'), rdflib.term.URIRef('http://amr.isi.edu/amr_data/article1.sent3#g'), None)\n"
     ]
    }
   ],
   "source": [
    "from rdflib import Namespace\n",
    "\n",
    "# Example SPARQL query\n",
    "sparql_query = \"\"\"\n",
    "    # Select information about a game's release\n",
    "    SELECT ?seriesLabel ?location ?month ?year ?gamePartURI ?gameLabel\n",
    "    WHERE {\n",
    "        # Start with the game entity\n",
    "        ?game a entity-types:game ;\n",
    "            rdfs:label ?seriesLabel ;   # Retrieve the label of the series\n",
    "\n",
    "            # Connect to the part of the game\n",
    "            amr-terms:part ?gamePartURI .\n",
    "\n",
    "        ## Insert Game label extraction here ##\n",
    "        \n",
    "        # Move to the release entity associated with the game\n",
    "        ?release a propbank:release-01 ;\n",
    "            propbank:release-01.ARG1 ?gamePartURI ;\n",
    "\n",
    "            # Retrieve the label of the location where the game was released\n",
    "            amr-terms:location/rdfs:label ?location ;\n",
    "\n",
    "            # Retrieve the month and year of the release date directly from the time entity\n",
    "            # remember the slash to traverse directly to a connected node!\n",
    "            amr-terms:time/amr-terms:month ?month ;\n",
    "            amr-terms:time/amr-terms:year ?year .\n",
    "    }\n",
    "\"\"\"\n",
    "\n",
    "# Execute the query\n",
    "results = g.query(sparql_query, initNs={\n",
    "    'amr-core': Namespace(\"http://amr.isi.edu/rdf/core-amr#\"),\n",
    "    'amr-terms': Namespace(\"http://amr.isi.edu/rdf/amr-terms#\"),\n",
    "    'entity-types': Namespace(\"http://amr.isi.edu/entity-types#\"),\n",
    "    'amr-data': Namespace(\"http://amr.isi.edu/amr_data#\"),\n",
    "    'propbank': Namespace(\"http://amr.isi.edu/frames/ld/v1.2.2/\")\n",
    "})\n",
    "\n",
    "# Print the results\n",
    "for row in results:\n",
    "    print(row)\n"
   ]
  },
  {
   "cell_type": "code",
   "execution_count": 20,
   "id": "af8b8820",
   "metadata": {},
   "outputs": [
    {
     "data": {
      "text/plain": [
       "'= Valkyria Chronicles III ='"
      ]
     },
     "execution_count": 20,
     "metadata": {},
     "output_type": "execute_result"
    }
   ],
   "source": [
    "doc0.title"
   ]
  },
  {
   "cell_type": "markdown",
   "id": "fb3b09dc",
   "metadata": {},
   "source": [
    "The crafted query aligns with the RDF database structure and adheres to the relationships defined by the AMR meta-model. The output from the query, although almost accurate, reveals an issue. When extracting the label from an entity that is part of a series, the query with label extraction yields nothing.\n",
    "\n",
    "        ?gamePartURI a ?something;\n",
    "            rdfs:label ?gameLabel . # Retrieve the label of the game\n",
    "\n",
    "To address this problem, an alternative approach is suggested. By reversing the query and starting with the known label, information about the associated node is retrieved. "
   ]
  },
  {
   "cell_type": "code",
   "execution_count": 21,
   "id": "1d64fbac",
   "metadata": {},
   "outputs": [
    {
     "name": "stdout",
     "output_type": "stream",
     "text": [
      "(rdflib.term.URIRef('http://amr.isi.edu/amr_data/article1.sent2#g'), None, None)\n"
     ]
    }
   ],
   "source": [
    "sparql_query = \"\"\"\n",
    "SELECT ?game ?predicate ?object \n",
    "WHERE {\n",
    "    # Search something of type game with a specific label\n",
    "    ?game a entity-types:game ;\n",
    "          rdfs:label 'Valkyria of the Battlefield 3' .  # Specify the desired label\n",
    "\n",
    "    # Retrieve additional information about the node\n",
    "    #?game ?predicate ?object.\n",
    "    \n",
    "}\n",
    "\"\"\"\n",
    "# Execute the query\n",
    "results = g.query(sparql_query, initNs={\n",
    "    'amr-core': Namespace(\"http://amr.isi.edu/rdf/core-amr#\"),\n",
    "    'amr-terms': Namespace(\"http://amr.isi.edu/rdf/amr-terms#\"),\n",
    "    'entity-types': Namespace(\"http://amr.isi.edu/entity-types#\"),\n",
    "    'amr-data': Namespace(\"http://amr.isi.edu/amr_data#\"),\n",
    "    'propbank': Namespace(\"http://amr.isi.edu/frames/ld/v1.2.2/\"),\n",
    "    'coreference' : Namespace(\"http://example.org/cluster/\")\n",
    "})\n",
    "\n",
    "# Print the results\n",
    "for row in results:\n",
    "    print(row)\n"
   ]
  },
  {
   "cell_type": "markdown",
   "id": "44491d9e",
   "metadata": {},
   "source": [
    "The output from this reverse query provides a URI related to the specified label. However, this URI does not establish a direct or indirect connection to the resource identified as part of the video game series."
   ]
  },
  {
   "cell_type": "code",
   "execution_count": 22,
   "id": "70486255",
   "metadata": {},
   "outputs": [],
   "source": [
    "sparql_query = \"\"\"\n",
    "SELECT ?gameURI ?cluster\n",
    "WHERE {\n",
    "    # Search something of type game with a specific label\n",
    "    ?gameURI a entity-types:game ;\n",
    "          rdfs:label 'Valkyria of the Battlefield 3' .  # Specify the desired label\n",
    "\n",
    "    # Retrieve additional information about the node\n",
    "    ?gameURI coreference:sameAs ?cluster\n",
    "}\n",
    "\"\"\"\n",
    "# Execute the query\n",
    "results = g.query(sparql_query, initNs={\n",
    "    'amr-core': Namespace(\"http://amr.isi.edu/rdf/core-amr#\"),\n",
    "    'amr-terms': Namespace(\"http://amr.isi.edu/rdf/amr-terms#\"),\n",
    "    'entity-types': Namespace(\"http://amr.isi.edu/entity-types#\"),\n",
    "    'amr-data': Namespace(\"http://amr.isi.edu/amr_data#\"),\n",
    "    'propbank': Namespace(\"http://amr.isi.edu/frames/ld/v1.2.2/\"),\n",
    "    'coreference' : Namespace(\"http://example.org/cluster/\")\n",
    "})\n",
    "\n",
    "# Print the results\n",
    "for row in results:\n",
    "    print(row)\n"
   ]
  },
  {
   "cell_type": "markdown",
   "id": "e025edff",
   "metadata": {},
   "source": [
    "### Q1 - Conclusion\n",
    "With this manual query evaluation, one of the shortcomings of this approach becomes evident. The text indicates that \"Valkyria of the Battlefield 3\" is a part of the larger Valkyria Series Videogames. While this relationship is correctly represented in RDF triples, the use of pronouns and coreferencing introduces a loss of information. Specifically, the graph correctly indicates that \"It\" (referring to Valkyria of the Battlefield 3) is part of the broader video game series, but there is no direct or indirect connection to the specific video game's name from the pronoun node.\n",
    "\n",
    "In summary, the current coreference resolver presents a limitation in capturing such relationships. A more robust coreference resolver is recommended to mitigate this shortcoming. For the given example query, this limitation translates to a challenge in directly answering questions such as \"Which video games are part of the Valkyria Series?\" due to the loss of connection between specific game names and their corresponding series."
   ]
  },
  {
   "cell_type": "code",
   "execution_count": 23,
   "id": "4e1ec457",
   "metadata": {},
   "outputs": [
    {
     "name": "stdout",
     "output_type": "stream",
     "text": [
      "(rdflib.term.URIRef('http://amr.isi.edu/amr_data/article1.sent2#g3'), rdflib.term.Literal('PlayStation Portable'))\n",
      "(rdflib.term.URIRef('http://amr.isi.edu/amr_data/article1.sent2#g'), rdflib.term.Literal('Valkyria of the Battlefield 3'))\n",
      "(rdflib.term.URIRef('http://amr.isi.edu/amr_data/article1.sent2#g2'), rdflib.term.Literal('Valkyria Chronicles III'))\n",
      "(rdflib.term.URIRef('http://amr.isi.edu/amr_data/article1.sent3#g2'), rdflib.term.Literal('Valkyria series'))\n",
      "(rdflib.term.URIRef('http://amr.isi.edu/amr_data/article1.sent4#g2'), rdflib.term.Literal('Valkyria Chronicles II'))\n",
      "(rdflib.term.URIRef('http://amr.isi.edu/amr_data/article1.sent11#g'), rdflib.term.Literal('Valkyria Chronicles II'))\n",
      "(rdflib.term.URIRef('http://amr.isi.edu/amr_data/article1.sent12#g'), rdflib.term.Literal('Valkyria Azure Revolution'))\n",
      "(rdflib.term.URIRef('http://amr.isi.edu/amr_data/article1.sent12#g2'), rdflib.term.Literal('PS4'))\n"
     ]
    }
   ],
   "source": [
    "from rdflib import Namespace\n",
    "\n",
    "# Example SPARQL query\n",
    "sparql_query = \"\"\"\n",
    "    # Select information about a game's release\n",
    "    SELECT ?game ?Label \n",
    "    WHERE {\n",
    "        # Start with the game entity\n",
    "        ?game a entity-types:game ;\n",
    "            rdfs:label ?Label ;   # Retrieve the label of the game\n",
    "    }\n",
    "\"\"\"\n",
    "\n",
    "# Execute the query\n",
    "results = g.query(sparql_query, initNs={\n",
    "    'amr-core': Namespace(\"http://amr.isi.edu/rdf/core-amr#\"),\n",
    "    'amr-terms': Namespace(\"http://amr.isi.edu/rdf/amr-terms#\"),\n",
    "    'entity-types': Namespace(\"http://amr.isi.edu/entity-types#\"),\n",
    "    'amr-data': Namespace(\"http://amr.isi.edu/amr_data#\"),\n",
    "    'propbank': Namespace(\"http://amr.isi.edu/frames/ld/v1.2.2/\")\n",
    "})\n",
    "\n",
    "# Print the results\n",
    "for row in results:\n",
    "    print(row)\n"
   ]
  },
  {
   "cell_type": "markdown",
   "id": "6a07fc2a",
   "metadata": {},
   "source": [
    "### Q2 \n",
    "\n",
    "Going on, letus examine a second document. We can read the text below, and try to come up with interesting queries to test our Graph's IR abilities."
   ]
  },
  {
   "cell_type": "code",
   "execution_count": 24,
   "id": "4a221d45",
   "metadata": {},
   "outputs": [
    {
     "name": "stdout",
     "output_type": "stream",
     "text": [
      "= Tower Building of the Little Rock Arsenal =\n",
      "The Tower Building of the Little Rock Arsenal , also known as U.S. Arsenal Building , is a building located in MacArthur Park in downtown Little Rock , Arkansas .\n",
      "Built in 1840 , it was part of Little Rock 's first military installation .\n",
      "Since its decommissioning , The Tower Building has housed two museums .\n",
      "It was home to the Arkansas Museum of Natural History and Antiquities from 1942 to 1997 and the MacArthur Museum of Arkansas Military History since 2001 .\n",
      "It has also been the headquarters of the Little Rock Æsthetic Club since 1894 .The building receives its name from its distinct octagonal tower .\n",
      "Besides being the last remaining structure of the original Little Rock Arsenal and one of the oldest buildings in central Arkansas , it was also the birthplace of General Douglas MacArthur , who became the supreme commander of US forces in the South Pacific during World War II .\n",
      "It was also the starting place of the Camden Expedition .\n",
      "In 2011 it was named as one of the top 10 attractions in the state of Arkansas by Arkansas.com.\n"
     ]
    }
   ],
   "source": [
    "## Check text\n",
    "doc2=all_documents[1]\n",
    "print(doc2.title)\n",
    "for sentence in doc2.sentences:\n",
    "    print(sentence[0])"
   ]
  },
  {
   "cell_type": "code",
   "execution_count": 25,
   "id": "78daa61c",
   "metadata": {},
   "outputs": [
    {
     "name": "stderr",
     "output_type": "stream",
     "text": [
      "/home/riccardo/anaconda3/envs/Project1/lib/python3.8/site-packages/torch/utils/data/sampler.py:64: UserWarning: `data_source` argument is not used and will be removed in 2.2.0.You may still have custom implementation that utilizes it.\n",
      "  warnings.warn(\"`data_source` argument is not used and will be removed in 2.2.0.\"\n"
     ]
    }
   ],
   "source": [
    "# create linked graph\n",
    "g2 = doc2.link_coreference_in_rdf()"
   ]
  },
  {
   "cell_type": "code",
   "execution_count": 26,
   "id": "059738ea",
   "metadata": {},
   "outputs": [
    {
     "name": "stdout",
     "output_type": "stream",
     "text": [
      "(rdflib.term.Literal('Tower Building of the Little Rock Arsenal'), rdflib.term.Literal('MacArthur Park'))\n"
     ]
    }
   ],
   "source": [
    "# Query\n",
    "sparql_query = \"\"\"\n",
    "    SELECT ?building ?location\n",
    "    WHERE {\n",
    "        ?buildingURI a entity-types:building;\n",
    "            rdfs:label ?building ;\n",
    "            amr-terms:location/ rdfs:label ?location .\n",
    "    }\n",
    "\"\"\"\n",
    "# Execute the query\n",
    "results = g2.query(sparql_query, initNs={\n",
    "    'amr-core': Namespace(\"http://amr.isi.edu/rdf/core-amr#\"),\n",
    "    'amr-terms': Namespace(\"http://amr.isi.edu/rdf/amr-terms#\"),\n",
    "    'entity-types': Namespace(\"http://amr.isi.edu/entity-types#\"),\n",
    "    'amr-data': Namespace(\"http://amr.isi.edu/amr_data#\"),\n",
    "    'propbank': Namespace(\"http://amr.isi.edu/frames/ld/v1.2.2/\"),\n",
    "    'coreference' : Namespace(\"http://example.org/cluster/\")\n",
    "})\n",
    "\n",
    "# Print the results\n",
    "for row in results:\n",
    "    print(row)\n"
   ]
  },
  {
   "cell_type": "markdown",
   "id": "8c244688",
   "metadata": {},
   "source": [
    "Looking at the content of the first sentence, it seems as the graph is able to retrieve simple information in a within-sentence context, as shown by the query above which correctly returns the Building and its associated location, as described in the sentence. To take this a step further, we can try and expand the query to retrive the location of the location (tower locatad in park, park located in City in Arkansas)"
   ]
  },
  {
   "cell_type": "code",
   "execution_count": 27,
   "id": "392cd024",
   "metadata": {},
   "outputs": [
    {
     "name": "stdout",
     "output_type": "stream",
     "text": [
      "(rdflib.term.Literal('Tower Building of the Little Rock Arsenal'), rdflib.term.Literal('MacArthur Park'), rdflib.term.URIRef('http://amr.isi.edu/amr_data/article2.sent1#d'))\n"
     ]
    }
   ],
   "source": [
    "sparql_query = \"\"\"\n",
    "    SELECT ?building ?location ?location2URI \n",
    "\n",
    "    WHERE {\n",
    "        ?buildingURI a entity-types:building;\n",
    "            rdfs:label ?building ;\n",
    "            amr-terms:location ?locationURI.\n",
    "        ?locationURI rdfs:label ?location.\n",
    "        # UP UNTIL HERE, IT IS EQUIVALENT TO THE ABOVE.\n",
    "\n",
    "        ?locationURI amr-terms:location ?location2URI.\n",
    "    }\n",
    "\"\"\"\n",
    "\n",
    "# Execute the query\n",
    "results = g2.query(sparql_query, initNs={\n",
    "    'amr-core': Namespace(\"http://amr.isi.edu/rdf/core-amr#\"),\n",
    "    'amr-terms': Namespace(\"http://amr.isi.edu/rdf/amr-terms#\"),\n",
    "    'entity-types': Namespace(\"http://amr.isi.edu/entity-types#\"),\n",
    "    'amr-data': Namespace(\"http://amr.isi.edu/amr_data#\"),\n",
    "    'propbank': Namespace(\"http://amr.isi.edu/frames/ld/v1.2.2/\"),\n",
    "    'coreference' : Namespace(\"http://example.org/cluster/\")\n",
    "})\n",
    "\n",
    "# Print the results\n",
    "for row in results:\n",
    "    print(row)\n",
    "\n",
    "    \n"
   ]
  },
  {
   "cell_type": "markdown",
   "id": "fc84b88a",
   "metadata": {},
   "source": [
    "From the above query, we can see the URI for the park's location: lets check that node in the turtle file (it is all the way at the bottom). We can se that the node is simply identified as a type of AMR term 'downtown'. We can also se that the variable of type City includes such node as part of the city. "
   ]
  },
  {
   "cell_type": "code",
   "execution_count": 28,
   "id": "597f533e",
   "metadata": {},
   "outputs": [
    {
     "name": "stdout",
     "output_type": "stream",
     "text": [
      "@prefix amr-core: <http://amr.isi.edu/rdf/core-amr#> .\n",
      "@prefix amr-terms: <http://amr.isi.edu/rdf/amr-terms#> .\n",
      "@prefix entity-types: <http://amr.isi.edu/entity-types#> .\n",
      "@prefix propbank: <http://amr.isi.edu/frames/ld/v1.2.2/> .\n",
      "@prefix rdfs: <http://www.w3.org/2000/01/rdf-schema#> .\n",
      "\n",
      "amr-core:Concept a rdfs:Class ;\n",
      "    rdfs:label \"AMR-Concept\" .\n",
      "\n",
      "amr-core:Role a rdfs:Class ;\n",
      "    rdfs:label \"AMR-Role\" .\n",
      "\n",
      "<http://amr.isi.edu/amr_data/article2.sent1#c> a entity-types:city ;\n",
      "    rdfs:label \"Little Rock\" ;\n",
      "    amr-terms:location <http://amr.isi.edu/amr_data/article2.sent1#s> ;\n",
      "    amr-terms:part <http://amr.isi.edu/amr_data/article2.sent1#d> .\n",
      "\n",
      "<http://amr.isi.edu/amr_data/article2.sent1#k> a propbank:know-02 ;\n",
      "    propbank:know-02.ARG1 <http://amr.isi.edu/amr_data/article2.sent1#b> ;\n",
      "    propbank:know-02.ARG2 <http://amr.isi.edu/amr_data/article2.sent1#b2> ;\n",
      "    amr-terms:mod <http://amr.isi.edu/amr_data/article2.sent1#a> .\n",
      "\n",
      "<http://amr.isi.edu/amr_data/article2.sent1#root01> a amr-core:AMR ;\n",
      "    amr-core:has-id \"article2.sent1\" ;\n",
      "    amr-core:has-sentence \"The Tower Building of the Little Rock Arsenal , also known as U.S. Arsenal Building , is a building located in MacArthur Park in downtown Little Rock , Arkansas .\" ;\n",
      "    amr-core:root <http://amr.isi.edu/amr_data/article2.sent1#b> .\n",
      "\n",
      "propbank:know-02.ARG1 a propbank:FrameRole .\n",
      "\n",
      "propbank:know-02.ARG2 a propbank:FrameRole .\n",
      "\n",
      "amr-terms:location a amr-core:Role .\n",
      "\n",
      "amr-terms:mod a amr-core:Role .\n",
      "\n",
      "amr-terms:part a amr-core:Role .\n",
      "\n",
      "<http://amr.isi.edu/amr_data/article2.sent1#a> a amr-terms:also .\n",
      "\n",
      "<http://amr.isi.edu/amr_data/article2.sent1#b2> a entity-types:building ;\n",
      "    rdfs:label \"U.S. Arsenal Building\" .\n",
      "\n",
      "<http://amr.isi.edu/amr_data/article2.sent1#p> a entity-types:park ;\n",
      "    rdfs:label \"MacArthur Park\" ;\n",
      "    amr-terms:location <http://amr.isi.edu/amr_data/article2.sent1#d> .\n",
      "\n",
      "<http://amr.isi.edu/amr_data/article2.sent1#s> a entity-types:state ;\n",
      "    rdfs:label \"Arkansas\" .\n",
      "\n",
      "entity-types:city a amr-core:NamedEntity .\n",
      "\n",
      "entity-types:park a amr-core:NamedEntity .\n",
      "\n",
      "entity-types:state a amr-core:NamedEntity .\n",
      "\n",
      "propbank:know-02 a amr-core:Frame .\n",
      "\n",
      "amr-terms:also a amr-core:Concept .\n",
      "\n",
      "amr-terms:downtown a amr-core:Concept .\n",
      "\n",
      "amr-core:Frame a amr-core:Concept ;\n",
      "    rdfs:label \"AMR-PropBank-Frame\" .\n",
      "\n",
      "<http://amr.isi.edu/amr_data/article2.sent1#b> a entity-types:building ;\n",
      "    rdfs:label \"Tower Building of the Little Rock Arsenal\" ;\n",
      "    amr-terms:location <http://amr.isi.edu/amr_data/article2.sent1#p> .\n",
      "\n",
      "<http://amr.isi.edu/amr_data/article2.sent1#d> a amr-terms:downtown .\n",
      "\n",
      "entity-types:building a amr-core:NamedEntity .\n",
      "\n",
      "propbank:FrameRole a amr-core:Role ;\n",
      "    rdfs:label \"AMR-PropBank-Role\" .\n",
      "\n",
      "amr-core:NamedEntity a amr-core:Concept ;\n",
      "    rdfs:label \"AMR-EntityType\",\n",
      "        \"AMR-Term\" .\n",
      "\n",
      "\n"
     ]
    }
   ],
   "source": [
    "print(doc2.sentences_rdf[0])"
   ]
  },
  {
   "cell_type": "markdown",
   "id": "645114ff",
   "metadata": {},
   "source": [
    "The challenges in constructing effective queries demonstarte several issue within the graph structure. One significant difficulty is the presence of indirect relationships. For instance, we could expect a a straightforward connection from building to park, park to city, and city to state. However, this connection is hindered by the intermediate node 'downtown'. Instead of a direct 'location' edge, the link between the park and city is established through a 'part' edge, meaning that downtown is a part of the city. This introduces an additional layer of complexity in navigating the relationships.\n",
    "\n",
    "In this contex, the concept of 'downtown' increases the level of detail represented in the graph. Moreover, let's suppose the text placed the building on the east side of the park: how would this increased granularity affect the comlpexity of the traversal process? \n",
    "\n",
    "In short, the challenges arise when traversing multiple complcepts and intermediary steps that are not consistently represented throughout the Knowledge Graph (KG). Efficient informaton retrivial requires knowing the graph's structure and a carful navigation to account for the intricacies and variation in the granuarity of the information. "
   ]
  },
  {
   "cell_type": "code",
   "execution_count": 29,
   "id": "edea3276",
   "metadata": {},
   "outputs": [
    {
     "name": "stdout",
     "output_type": "stream",
     "text": [
      "(rdflib.term.Literal('Tower Building of the Little Rock Arsenal'), rdflib.term.Literal('MacArthur Park'), rdflib.term.Literal('Little Rock'), rdflib.term.Literal('Arkansas'))\n"
     ]
    }
   ],
   "source": [
    "# Query\n",
    "sparql_query = \"\"\"\n",
    "    SELECT ?building ?location ?location3 ?location4\n",
    "    WHERE {\n",
    "    \n",
    "        ?buildingURI a entity-types:building;\n",
    "            rdfs:label ?building ;\n",
    "            amr-terms:location ?locationURI.\n",
    "        # Extract first location label\n",
    "        ?locationURI rdfs:label ?location.\n",
    "        # Travers the downtown edge (to connect with city) without retrieving the label \n",
    "        ?locationURI amr-terms:location ?location2URI.\n",
    "        # Find something connected to downtown  and get the label \n",
    "        ?location3URI ?predicate ?location2URI;\n",
    "            rdfs:label ?location3 .\n",
    "        # Check if that last resource has a location, if so extract the label (not really if statement)\n",
    "        ?location3URI amr-terms:location/ rdfs:label ?location4\n",
    "\n",
    "    }\n",
    "\"\"\"\n",
    "# Execute the query\n",
    "results = g2.query(sparql_query, initNs={\n",
    "    'amr-core': Namespace(\"http://amr.isi.edu/rdf/core-amr#\"),\n",
    "    'amr-terms': Namespace(\"http://amr.isi.edu/rdf/amr-terms#\"),\n",
    "    'entity-types': Namespace(\"http://amr.isi.edu/entity-types#\"),\n",
    "    'amr-data': Namespace(\"http://amr.isi.edu/amr_data#\"),\n",
    "    'propbank': Namespace(\"http://amr.isi.edu/frames/ld/v1.2.2/\"),\n",
    "    'coreference' : Namespace(\"http://example.org/cluster/\")\n",
    "})\n",
    "\n",
    "# Print the results\n",
    "for row in results:\n",
    "    print(row)\n"
   ]
  },
  {
   "cell_type": "markdown",
   "id": "92a831ce",
   "metadata": {},
   "source": [
    "We have been able to retrive information within-sentence. Going on, lets verify if we can retrieve the museum that the building housed. We can start by having a look at rdf representation of the sentence containing the museum. "
   ]
  },
  {
   "cell_type": "code",
   "execution_count": 30,
   "id": "df9573fb",
   "metadata": {},
   "outputs": [
    {
     "name": "stdout",
     "output_type": "stream",
     "text": [
      "@prefix amr-core: <http://amr.isi.edu/rdf/core-amr#> .\n",
      "@prefix amr-terms: <http://amr.isi.edu/rdf/amr-terms#> .\n",
      "@prefix entity-types: <http://amr.isi.edu/entity-types#> .\n",
      "@prefix propbank: <http://amr.isi.edu/frames/ld/v1.2.2/> .\n",
      "@prefix rdfs: <http://www.w3.org/2000/01/rdf-schema#> .\n",
      "\n",
      "amr-core:Concept a rdfs:Class ;\n",
      "    rdfs:label \"AMR-Concept\" .\n",
      "\n",
      "amr-core:Role a rdfs:Class ;\n",
      "    rdfs:label \"AMR-Role\" .\n",
      "\n",
      "<http://amr.isi.edu/amr_data/article2.sent4#root01> a amr-core:AMR ;\n",
      "    amr-core:has-id \"article2.sent4\" ;\n",
      "    amr-core:has-sentence \"It was home to the Arkansas Museum of Natural History and Antiquities from 1942 to 1997 and the MacArthur Museum of Arkansas Military History since 2001 .\" ;\n",
      "    amr-core:root <http://amr.isi.edu/amr_data/article2.sent4#a> .\n",
      "\n",
      "propbank:FrameRole a amr-core:Role ;\n",
      "    rdfs:label \"AMR-PropBank-Role\" .\n",
      "\n",
      "amr-terms:domain a amr-core:Role .\n",
      "\n",
      "amr-terms:op1 a amr-core:Role .\n",
      "\n",
      "amr-terms:op2 a amr-core:Role .\n",
      "\n",
      "amr-terms:poss a amr-core:Role .\n",
      "\n",
      "amr-terms:time a amr-core:Role .\n",
      "\n",
      "amr-core:Frame a amr-core:Concept ;\n",
      "    rdfs:label \"AMR-PropBank-Frame\" .\n",
      "\n",
      "<http://amr.isi.edu/amr_data/article2.sent4#a> a amr-core:and ;\n",
      "    amr-terms:domain <http://amr.isi.edu/amr_data/article2.sent4#ii> ;\n",
      "    amr-terms:op1 <http://amr.isi.edu/amr_data/article2.sent4#h> ;\n",
      "    amr-terms:op2 <http://amr.isi.edu/amr_data/article2.sent4#h2> .\n",
      "\n",
      "<http://amr.isi.edu/amr_data/article2.sent4#d> a amr-core:date-interval ;\n",
      "    amr-terms:op1 <http://amr.isi.edu/amr_data/article2.sent4#d2> ;\n",
      "    amr-terms:op2 <http://amr.isi.edu/amr_data/article2.sent4#d3> .\n",
      "\n",
      "<http://amr.isi.edu/amr_data/article2.sent4#d2> a amr-core:date-entity ;\n",
      "    amr-terms:year \"1942\" .\n",
      "\n",
      "<http://amr.isi.edu/amr_data/article2.sent4#d3> a amr-core:date-entity ;\n",
      "    amr-terms:year \"1997\" .\n",
      "\n",
      "<http://amr.isi.edu/amr_data/article2.sent4#d4> a amr-core:date-entity ;\n",
      "    amr-terms:year \"2001\" .\n",
      "\n",
      "<http://amr.isi.edu/amr_data/article2.sent4#f> a entity-types:facility ;\n",
      "    rdfs:label \"MacArthur Museum of Arkansas Military History\" .\n",
      "\n",
      "<http://amr.isi.edu/amr_data/article2.sent4#h> a amr-terms:home ;\n",
      "    amr-terms:poss <http://amr.isi.edu/amr_data/article2.sent4#m> ;\n",
      "    amr-terms:time <http://amr.isi.edu/amr_data/article2.sent4#d> .\n",
      "\n",
      "<http://amr.isi.edu/amr_data/article2.sent4#h2> a amr-terms:home ;\n",
      "    amr-terms:poss <http://amr.isi.edu/amr_data/article2.sent4#f> ;\n",
      "    amr-terms:time <http://amr.isi.edu/amr_data/article2.sent4#s> .\n",
      "\n",
      "<http://amr.isi.edu/amr_data/article2.sent4#ii> a amr-terms:it .\n",
      "\n",
      "<http://amr.isi.edu/amr_data/article2.sent4#m> a entity-types:museum ;\n",
      "    rdfs:label \"Arkansas Museum of Natural History and _Antiquities\" .\n",
      "\n",
      "<http://amr.isi.edu/amr_data/article2.sent4#s> a amr-terms:since ;\n",
      "    amr-terms:op1 <http://amr.isi.edu/amr_data/article2.sent4#d4> .\n",
      "\n",
      "entity-types:facility a amr-core:NamedEntity .\n",
      "\n",
      "entity-types:museum a amr-core:NamedEntity .\n",
      "\n",
      "amr-terms:it a amr-core:Concept .\n",
      "\n",
      "amr-terms:since a amr-core:Concept .\n",
      "\n",
      "amr-core:and a amr-core:Concept .\n",
      "\n",
      "amr-core:date-interval a amr-core:Concept .\n",
      "\n",
      "amr-terms:home a amr-core:Concept .\n",
      "\n",
      "amr-core:NamedEntity a amr-core:Concept ;\n",
      "    rdfs:label \"AMR-EntityType\",\n",
      "        \"AMR-Term\" .\n",
      "\n",
      "amr-core:date-entity a amr-core:Concept .\n",
      "\n",
      "\n",
      "# ::id article2.sent4\n",
      "# ::snt It was home to the Arkansas Museum of Natural History and Antiquities from 1942 to 1997 and the MacArthur Museum of Arkansas Military History since 2001 .\n",
      "(a / and\n",
      "      :op1 (h / home\n",
      "            :poss (m / museum\n",
      "                  :name (n / name\n",
      "                        :op1 \"Arkansas\"\n",
      "                        :op2 \"Museum\"\n",
      "                        :op3 \"of\"\n",
      "                        :op4 \"Natural\"\n",
      "                        :op5 \"History\"\n",
      "                        :op6 \"and\"\n",
      "                        :op7 \" Antiquities\"))\n",
      "            :time (d / date-interval\n",
      "                  :op1 (d2 / date-entity\n",
      "                        :year 1942)\n",
      "                  :op2 (d3 / date-entity\n",
      "                        :year 1997)))\n",
      "      :op2 (h2 / home\n",
      "            :poss (f / facility\n",
      "                  :name (n2 / name\n",
      "                        :op1 \"MacArthur\"\n",
      "                        :op2 \"Museum\"\n",
      "                        :op3 \"of\"\n",
      "                        :op4 \"Arkansas\"\n",
      "                        :op5 \"Military\"\n",
      "                        :op6 \"History\"))\n",
      "            :time (s / since\n",
      "                  :op1 (d4 / date-entity\n",
      "                        :year 2001)))\n",
      "      :domain (ii / it))\n"
     ]
    }
   ],
   "source": [
    "print(doc2.sentences_rdf[3])\n",
    "print(doc2.sentences[3][2])"
   ]
  },
  {
   "cell_type": "markdown",
   "id": "218ef603",
   "metadata": {},
   "source": [
    "We can see that 'it' (our tower) 'houses' 2 option, each of which links to the possesions (the museums). However, a first downside to this structure is the scarce consistency in the entity type:\n",
    "the two different instance of museums receive different types, as one is encoded as a facility (#f), while the other (#m) receives a musem type.\n",
    "\n",
    "Additionally, our pronoun does not seem to carry any additional information. However the RDF File is only representing the sentence before the Document KG generation. We can again inspect the pronoun URI to identify connected coreferenced entities, and only select the ones that have labels:"
   ]
  },
  {
   "cell_type": "code",
   "execution_count": 31,
   "id": "caf5657a",
   "metadata": {},
   "outputs": [
    {
     "name": "stdout",
     "output_type": "stream",
     "text": [
      "(rdflib.term.URIRef('http://example.org/cluster/rel-1'), rdflib.term.URIRef('http://amr.isi.edu/amr_data/article2.sent5#o'), rdflib.term.Literal('Little Rock Ages Club'))\n"
     ]
    }
   ],
   "source": [
    "# Query\n",
    "sparql_query = \"\"\"\n",
    "    SELECT ?corefCluster ?relatedEntity ?entityLabel\n",
    "    WHERE  {\n",
    "    <http://amr.isi.edu/amr_data/article2.sent4#ii> coreference:sameAs ?corefCluster .\n",
    "    ?relatedEntity coreference:sameAs  ?corefCluster;\n",
    "         rdfs:label ?entityLabel .\n",
    "}\n",
    "\"\"\"\n",
    "\n",
    "# Execute the query\n",
    "results = g2.query(sparql_query, initNs={\n",
    "    'amr-core': Namespace(\"http://amr.isi.edu/rdf/core-amr#\"),\n",
    "    'amr-terms': Namespace(\"http://amr.isi.edu/rdf/amr-terms#\"),\n",
    "    'entity-types': Namespace(\"http://amr.isi.edu/entity-types#\"),\n",
    "    'amr-data': Namespace(\"http://amr.isi.edu/amr_data#\"),\n",
    "    'propbank': Namespace(\"http://amr.isi.edu/frames/ld/v1.2.2/\"),\n",
    "    'coreference' : Namespace(\"http://example.org/cluster/\")\n",
    "})\n",
    "\n",
    "# Print the results\n",
    "for row in results:\n",
    "    print(row)\n"
   ]
  },
  {
   "cell_type": "markdown",
   "id": "543fef42",
   "metadata": {},
   "source": [
    "Based on this query, we can see that there is only node coreferencing the pronoun 'it' in the document that also has a label associated with it, namely \"Little Rock Ages Club\". As we know from the full text however, this is also incorrect, which means that the current structure does not represent the fact that the 'Tower building of Little Rock Arsenal\" has ever housed any museum. Instead, it would be the Little Rock ages Club that has housed the museums. As a note, the entity is also misnamed compared witht he original text, probably an error arising in the AMR Parsing due to special charachter. \n",
    "Additionally, because of the complex graph structure of even such a simple sentence, I haven't been able to traverse the graph from the museum to the pronoun node, nor vice versa, despite the tentatives in the queries below. \n",
    "\n"
   ]
  },
  {
   "cell_type": "code",
   "execution_count": 32,
   "id": "b29bc9ea",
   "metadata": {},
   "outputs": [
    {
     "name": "stdout",
     "output_type": "stream",
     "text": [
      "(rdflib.term.Literal('Arkansas Museum of Natural History and _Antiquities'), rdflib.term.URIRef('http://amr.isi.edu/entity-types#museum'))\n",
      "(rdflib.term.Literal('MacArthur Museum of Arkansas Military History'), rdflib.term.URIRef('http://amr.isi.edu/entity-types#facility'))\n",
      "(rdflib.term.Literal('Little Rock Arsenal'), rdflib.term.URIRef('http://amr.isi.edu/entity-types#facility'))\n"
     ]
    }
   ],
   "source": [
    "# Query\n",
    "sparql_query = \"\"\"\n",
    "SELECT ?museumLabel ?museumType\n",
    "WHERE {\n",
    "  ?museumURI a ?museumType ;              # Selecting entities and their types\n",
    "          rdfs:label ?museumLabel .\n",
    "\n",
    "  FILTER ( ?museumType = entity-types:facility || ?museumType = entity-types:museum ) .  # Filtering for specific types\n",
    "}\n",
    "\"\"\"\n",
    "# Execute the query\n",
    "results = g2.query(sparql_query, initNs={\n",
    "    'amr-core': Namespace(\"http://amr.isi.edu/rdf/core-amr#\"),\n",
    "    'amr-terms': Namespace(\"http://amr.isi.edu/rdf/amr-terms#\"),\n",
    "    'entity-types': Namespace(\"http://amr.isi.edu/entity-types#\"),\n",
    "    'amr-data': Namespace(\"http://amr.isi.edu/amr_data#\"),\n",
    "    'propbank': Namespace(\"http://amr.isi.edu/frames/ld/v1.2.2/\"),\n",
    "    'coreference' : Namespace(\"http://example.org/cluster/\")\n",
    "})\n",
    "\n",
    "# Print the results\n",
    "for row in results:\n",
    "    print(row)\n"
   ]
  },
  {
   "cell_type": "code",
   "execution_count": 33,
   "id": "032d901d",
   "metadata": {},
   "outputs": [
    {
     "name": "stdout",
     "output_type": "stream",
     "text": [
      "(rdflib.term.Literal('Arkansas Museum of Natural History and _Antiquities'), rdflib.term.URIRef('http://amr.isi.edu/amr_data/article2.sent4#a'), rdflib.term.URIRef('http://amr.isi.edu/amr_data/article2.sent4#ii'))\n",
      "(rdflib.term.Literal('Arkansas Museum of Natural History and _Antiquities'), rdflib.term.URIRef('http://amr.isi.edu/amr_data/article2.sent4#a'), rdflib.term.URIRef('http://amr.isi.edu/amr_data/article2.sent4#h2'))\n",
      "(rdflib.term.Literal('Arkansas Museum of Natural History and _Antiquities'), rdflib.term.URIRef('http://amr.isi.edu/amr_data/article2.sent4#a'), rdflib.term.URIRef('http://amr.isi.edu/rdf/core-amr#and'))\n",
      "(rdflib.term.Literal('MacArthur Museum of Arkansas Military History'), rdflib.term.URIRef('http://amr.isi.edu/amr_data/article2.sent4#a'), rdflib.term.URIRef('http://amr.isi.edu/amr_data/article2.sent4#ii'))\n",
      "(rdflib.term.Literal('MacArthur Museum of Arkansas Military History'), rdflib.term.URIRef('http://amr.isi.edu/amr_data/article2.sent4#a'), rdflib.term.URIRef('http://amr.isi.edu/amr_data/article2.sent4#h'))\n",
      "(rdflib.term.Literal('MacArthur Museum of Arkansas Military History'), rdflib.term.URIRef('http://amr.isi.edu/amr_data/article2.sent4#a'), rdflib.term.URIRef('http://amr.isi.edu/rdf/core-amr#and'))\n",
      "(rdflib.term.Literal('Little Rock Arsenal'), rdflib.term.URIRef('http://amr.isi.edu/amr_data/article2.sent6#a2'), rdflib.term.URIRef('http://amr.isi.edu/rdf/core-amr#and'))\n",
      "(rdflib.term.Literal('Little Rock Arsenal'), rdflib.term.URIRef('http://amr.isi.edu/amr_data/article2.sent6#a2'), rdflib.term.URIRef('http://amr.isi.edu/amr_data/article2.sent6#b3'))\n",
      "(rdflib.term.Literal('Little Rock Arsenal'), rdflib.term.URIRef('http://amr.isi.edu/amr_data/article2.sent6#r'), rdflib.term.URIRef('http://amr.isi.edu/frames/ld/v1.2.2/remain-01'))\n"
     ]
    }
   ],
   "source": [
    "# Query\n",
    "sparql_query = \"\"\"\n",
    "SELECT ?museumLabel ?SecondLevelURI ?PURI \n",
    "WHERE {\n",
    "  ?museumURI a ?museumType ;\n",
    "          rdfs:label ?museumLabel .\n",
    "\n",
    "  FILTER ( ?museumType = entity-types:facility || ?museumType = entity-types:museum ) .\n",
    "\n",
    "  ?FirstLevelURI ?somePredicate ?museumURI .\n",
    "\n",
    "  ?SecondLevelURI ?somePredicate2 ?FirstLevelURI .\n",
    "\n",
    "  ?SecondLevelURI ?somePredicate3 ?PURI .\n",
    "  FILTER (?somePredicate3 != ?somePredicate2)\n",
    "\n",
    "}\n",
    "\n",
    "\n",
    "\n",
    "\"\"\"\n",
    "# Execute the query\n",
    "results = g2.query(sparql_query, initNs={\n",
    "    'amr-core': Namespace(\"http://amr.isi.edu/rdf/core-amr#\"),\n",
    "    'amr-terms': Namespace(\"http://amr.isi.edu/rdf/amr-terms#\"),\n",
    "    'entity-types': Namespace(\"http://amr.isi.edu/entity-types#\"),\n",
    "    'amr-data': Namespace(\"http://amr.isi.edu/amr_data#\"),\n",
    "    'propbank': Namespace(\"http://amr.isi.edu/frames/ld/v1.2.2/\"),\n",
    "    'coreference' : Namespace(\"http://example.org/cluster/\")\n",
    "})\n",
    "\n",
    "# Print the results\n",
    "for row in results:\n",
    "    print(row)\n"
   ]
  },
  {
   "cell_type": "markdown",
   "id": "1e3704c4",
   "metadata": {},
   "source": [
    "# Evaluation Metrics\n",
    "\n",
    "The evaluation metrics include:\n",
    "- precision,\n",
    "- recall\n",
    "- F1 \n",
    "\n",
    "These are computed for the Named Entities contained in the text as recognized by Spacy's NER. This metric, although not extensive, can provide an easy, 'naive' scoring method for at least one of the task in which our pipline has to perform correctly.\n",
    " The idea is comparing the labels in our graph with the entities extracted by Spacy NLP as a gold standard. \n",
    "For this metrics, digits have been excluded from the gold standard, as our approach extracts dates differently than labels (amr-terms:date, :year, :day, etcetera). Refining this metrics to account for mispellings in the parsing ('s, special characters, etc.) using string similarity or others, could further improve the scores\n"
   ]
  },
  {
   "cell_type": "code",
   "execution_count": 34,
   "metadata": {},
   "outputs": [
    {
     "name": "stderr",
     "output_type": "stream",
     "text": [
      "/home/riccardo/anaconda3/envs/Project1/lib/python3.8/site-packages/torch/utils/data/sampler.py:64: UserWarning: `data_source` argument is not used and will be removed in 2.2.0.You may still have custom implementation that utilizes it.\n",
      "  warnings.warn(\"`data_source` argument is not used and will be removed in 2.2.0.\"\n"
     ]
    },
    {
     "data": {
      "text/plain": [
       "(0.5454545454545454, 0.5, 0.5217391304347826)"
      ]
     },
     "execution_count": 34,
     "metadata": {},
     "output_type": "execute_result"
    }
   ],
   "source": [
    "# Compute metrics on the document \n",
    "doc0.compute_metrics()"
   ]
  },
  {
   "cell_type": "markdown",
   "id": "968da363",
   "metadata": {},
   "source": [
    "These metrics have been computed for the whole dataset and stored to a file in orderd to allow a more refined analysis. Here we load the file using Pandas, and check its descriptive stats"
   ]
  },
  {
   "cell_type": "code",
   "execution_count": 35,
   "id": "7c98ba1c",
   "metadata": {},
   "outputs": [
    {
     "name": "stdout",
     "output_type": "stream",
     "text": [
      "Descriptive Statistics - Original Data:\n",
      "        Precision      Recall          F1\n",
      "count  611.000000  611.000000  611.000000\n",
      "mean     0.529393    0.368738    0.426613\n",
      "std      0.179521    0.154625    0.156234\n",
      "min      0.000000    0.000000    0.000000\n",
      "25%      0.437500    0.264706    0.325581\n",
      "50%      0.540541    0.366667    0.434783\n",
      "75%      0.652174    0.476190    0.533333\n",
      "max      1.000000    0.928571    0.880000\n"
     ]
    }
   ],
   "source": [
    "import pandas as pd\n",
    "\n",
    "# Read the CSV file into a DataFrame\n",
    "df = pd.read_csv(\"precision_recall_f1_data.csv\"  )\n",
    "# Display descriptive statistics for the original DataFrame\n",
    "\n",
    "print(\"Descriptive Statistics - Original Data:\")\n",
    "print(df.describe())\n"
   ]
  },
  {
   "cell_type": "markdown",
   "id": "c2f60896",
   "metadata": {},
   "source": [
    "Next, we can do some basic filtering to remove some outliers. We will use Inter Quartile range and drop out the Top and bottom quartile "
   ]
  },
  {
   "cell_type": "code",
   "execution_count": 36,
   "id": "e83ec803",
   "metadata": {},
   "outputs": [
    {
     "name": "stdout",
     "output_type": "stream",
     "text": [
      "Original DataFrame:\n",
      "     Precision    Recall        F1\n",
      "0     0.545455  0.500000  0.521739\n",
      "1     0.600000  0.450000  0.514286\n",
      "2     0.562500  0.428571  0.486486\n",
      "3     0.800000  0.444444  0.571429\n",
      "4     0.200000  0.111111  0.142857\n",
      "..         ...       ...       ...\n",
      "606   0.500000  0.636364  0.560000\n",
      "607   0.652174  0.428571  0.517241\n",
      "608   0.666667  0.571429  0.615385\n",
      "609   0.538462  0.466667  0.500000\n",
      "610   0.583333  0.388889  0.466667\n",
      "\n",
      "[611 rows x 3 columns]\n",
      "\n",
      "DataFrame without Outliers (IQR):\n",
      "     Precision    Recall        F1\n",
      "0     0.545455  0.500000  0.521739\n",
      "1     0.600000  0.450000  0.514286\n",
      "2     0.562500  0.428571  0.486486\n",
      "3     0.800000  0.444444  0.571429\n",
      "4     0.200000  0.111111  0.142857\n",
      "..         ...       ...       ...\n",
      "606   0.500000  0.636364  0.560000\n",
      "607   0.652174  0.428571  0.517241\n",
      "608   0.666667  0.571429  0.615385\n",
      "609   0.538462  0.466667  0.500000\n",
      "610   0.583333  0.388889  0.466667\n",
      "\n",
      "[587 rows x 3 columns]\n",
      "\n",
      "Average Values (Original):\n",
      "Precision    0.529393\n",
      "Recall       0.368738\n",
      "F1           0.426613\n",
      "dtype: float64\n",
      "\n",
      "Average Values (No Outliers):\n",
      "Precision    0.540886\n",
      "Recall       0.375556\n",
      "F1           0.435604\n",
      "dtype: float64\n"
     ]
    }
   ],
   "source": [
    "# Calculate the first quartile (Q1) and third quartile (Q3)\n",
    "Q1 = df.quantile(0.25)\n",
    "Q3 = df.quantile(0.75)\n",
    "\n",
    "# Calculate the IQR for each metric\n",
    "IQR = Q3 - Q1\n",
    "\n",
    "# Create a boolean mask to identify outliers\n",
    "outliers_mask = ~((df < (Q1 - 1.5 * IQR)) | (df > (Q3 + 1.5 * IQR))).any(axis=1)\n",
    "\n",
    "# Create a new DataFrame without outliers\n",
    "df_no_outliers = df[outliers_mask]\n",
    "\n",
    "# Calculate average metrics for both datasets\n",
    "avg_values_original = df.mean()\n",
    "avg_values_no_outliers = df_no_outliers.mean()\n",
    "\n",
    "# Display the DataFrames and average values\n",
    "print(\"Original DataFrame:\")\n",
    "print(df)\n",
    "\n",
    "print(\"\\nDataFrame without Outliers (IQR):\")\n",
    "print(df_no_outliers)\n",
    "\n",
    "print(\"\\nAverage Values (Original):\")\n",
    "print(avg_values_original)\n",
    "\n",
    "print(\"\\nAverage Values (No Outliers):\")\n",
    "print(avg_values_no_outliers)\n"
   ]
  },
  {
   "cell_type": "markdown",
   "id": "18cd2770",
   "metadata": {},
   "source": [
    "Which leads to the follwin improvements in our metrics"
   ]
  },
  {
   "cell_type": "code",
   "execution_count": 37,
   "id": "9681a998",
   "metadata": {},
   "outputs": [
    {
     "name": "stdout",
     "output_type": "stream",
     "text": [
      "Improvement Percentage for Precision: 2.17%\n",
      "Improvement Percentage for Recall: 1.85%\n",
      "Improvement Percentage for F1: 2.11%\n"
     ]
    }
   ],
   "source": [
    "# Calculate improvement percentage for each metric\n",
    "improvement_percentage_precision = ((avg_values_no_outliers[\"Precision\"] - avg_values_original[\"Precision\"]) / avg_values_original[\"Precision\"]) * 100\n",
    "improvement_percentage_recall = ((avg_values_no_outliers[\"Recall\"] - avg_values_original[\"Recall\"]) / avg_values_original[\"Recall\"]) * 100\n",
    "improvement_percentage_f1 = ((avg_values_no_outliers[\"F1\"] - avg_values_original[\"F1\"]) / avg_values_original[\"F1\"]) * 100\n",
    "\n",
    "# Display improvement percentages\n",
    "print(\"Improvement Percentage for Precision: {:.2f}%\".format(improvement_percentage_precision))\n",
    "print(\"Improvement Percentage for Recall: {:.2f}%\".format(improvement_percentage_recall))\n",
    "print(\"Improvement Percentage for F1: {:.2f}%\".format(improvement_percentage_f1))\n"
   ]
  },
  {
   "cell_type": "markdown",
   "id": "76c04e66",
   "metadata": {},
   "source": [
    "And we can check the descriptive again"
   ]
  },
  {
   "cell_type": "code",
   "execution_count": 38,
   "id": "98b905fa",
   "metadata": {},
   "outputs": [
    {
     "name": "stdout",
     "output_type": "stream",
     "text": [
      "\n",
      "Descriptive Statistics - No Outliers:\n",
      "        Precision      Recall          F1\n",
      "count  587.000000  587.000000  587.000000\n",
      "mean     0.540886    0.375556    0.435604\n",
      "std      0.154835    0.138124    0.137605\n",
      "min      0.142857    0.083333    0.105263\n",
      "25%      0.444444    0.270270    0.333333\n",
      "50%      0.545455    0.368421    0.439024\n",
      "75%      0.652174    0.476190    0.533333\n",
      "max      0.916667    0.769231    0.800000\n",
      "Descriptive Statistics - Original Data:\n",
      "        Precision      Recall          F1\n",
      "count  611.000000  611.000000  611.000000\n",
      "mean     0.529393    0.368738    0.426613\n",
      "std      0.179521    0.154625    0.156234\n",
      "min      0.000000    0.000000    0.000000\n",
      "25%      0.437500    0.264706    0.325581\n",
      "50%      0.540541    0.366667    0.434783\n",
      "75%      0.652174    0.476190    0.533333\n",
      "max      1.000000    0.928571    0.880000\n"
     ]
    }
   ],
   "source": [
    "# Display descriptive statistics for the DataFrame without outliers\n",
    "print(\"\\nDescriptive Statistics - No Outliers:\")\n",
    "print(df_no_outliers.describe())\n",
    "print(\"Descriptive Statistics - Original Data:\")\n",
    "print(df.describe())"
   ]
  },
  {
   "cell_type": "markdown",
   "id": "972fccf0",
   "metadata": {},
   "source": [
    "Lets plot the outliers"
   ]
  },
  {
   "cell_type": "code",
   "execution_count": 39,
   "id": "361cb638",
   "metadata": {},
   "outputs": [
    {
     "ename": "NameError",
     "evalue": "name 'plt' is not defined",
     "output_type": "error",
     "traceback": [
      "\u001b[0;31m---------------------------------------------------------------------------\u001b[0m",
      "\u001b[0;31mNameError\u001b[0m                                 Traceback (most recent call last)",
      "Cell \u001b[0;32mIn[39], line 2\u001b[0m\n\u001b[1;32m      1\u001b[0m \u001b[38;5;66;03m# Plot boxplots for each metric before and after filtering outliers\u001b[39;00m\n\u001b[0;32m----> 2\u001b[0m fig, axs \u001b[38;5;241m=\u001b[39m \u001b[43mplt\u001b[49m\u001b[38;5;241m.\u001b[39msubplots(\u001b[38;5;241m1\u001b[39m, \u001b[38;5;241m3\u001b[39m, figsize\u001b[38;5;241m=\u001b[39m(\u001b[38;5;241m15\u001b[39m, \u001b[38;5;241m5\u001b[39m))\n\u001b[1;32m      3\u001b[0m fig\u001b[38;5;241m.\u001b[39msuptitle(\u001b[38;5;124m'\u001b[39m\u001b[38;5;124mBoxplots for Precision, Recall and F1\u001b[39m\u001b[38;5;124m'\u001b[39m)\n\u001b[1;32m      5\u001b[0m \u001b[38;5;66;03m# Boxplot for Precision\u001b[39;00m\n",
      "\u001b[0;31mNameError\u001b[0m: name 'plt' is not defined"
     ]
    }
   ],
   "source": [
    "\n",
    "# Plot boxplots for each metric before and after filtering outliers\n",
    "fig, axs = plt.subplots(1, 3, figsize=(15, 5))\n",
    "fig.suptitle('Boxplots for Precision, Recall and F1')\n",
    "\n",
    "# Boxplot for Precision\n",
    "df.boxplot(column='Precision', ax=axs[0], showfliers=True)\n",
    "axs[0].set_title('Precision')\n",
    "\n",
    "# Boxplot for Recall\n",
    "df.boxplot(column='Recall', ax=axs[1], showfliers=True)\n",
    "axs[1].set_title('Recall')\n",
    "\n",
    "# Boxplot for F1\n",
    "df.boxplot(column='F1', ax=axs[2], showfliers=True)\n",
    "axs[2].set_title('F1')\n",
    "\n",
    "plt.tight_layout(rect=[0, 0.03, 1, 0.95])\n",
    "plt.show()\n"
   ]
  },
  {
   "cell_type": "code",
   "execution_count": null,
   "id": "14faafb4",
   "metadata": {},
   "outputs": [
    {
     "data": {
      "image/png": "[encoded data removed]",
      "text/plain": [
       "<Figure size 1500x800 with 6 Axes>"
      ]
     },
     "metadata": {},
     "output_type": "display_data"
    }
   ],
   "source": [
    "import matplotlib.pyplot as plt\n",
    "# Plot histograms for each column before and after filtering outliers\n",
    "fig, axs = plt.subplots(2, 3, figsize=(15, 8))\n",
    "fig.suptitle('Distribution of Metrics')\n",
    "\n",
    "df.hist(bins=20, alpha=0.7, ax=axs[0])\n",
    "axs[0, 0].set_title('Before Filtering - Original Data')\n",
    "\n",
    "df_no_outliers.hist(bins=20, alpha=0.7, ax=axs[1])\n",
    "axs[1, 0].set_title('After Filtering - No Outliers')\n",
    "\n",
    "plt.tight_layout(rect=[0, 0.03, 1, 0.95])\n",
    "plt.show()"
   ]
  },
  {
   "cell_type": "code",
   "execution_count": null,
   "id": "ad75762d",
   "metadata": {},
   "outputs": [
    {
     "data": {
      "image/png": "[encoded data removed]",
      "text/plain": [
       "<Figure size 1500x500 with 3 Axes>"
      ]
     },
     "metadata": {},
     "output_type": "display_data"
    }
   ],
   "source": [
    "\n",
    "# Plot histograms for each metric before and after filtering outliers\n",
    "fig, axs = plt.subplots(1, 3, figsize=(15, 5))\n",
    "fig.suptitle('Distribution of Metrics Before and After Filtering Outliers')\n",
    "\n",
    "# Plot Precision\n",
    "df['Precision'].hist(bins=20, alpha=0.7, label='Before Filtering', ax=axs[0])\n",
    "df_no_outliers['Precision'].hist(bins=20, alpha=0.7, label='After Filtering', ax=axs[0])\n",
    "axs[0].set_title('Precision')\n",
    "axs[0].legend()\n",
    "\n",
    "# Plot Recall\n",
    "df['Recall'].hist(bins=20, alpha=0.7, label='Before Filtering', ax=axs[1])\n",
    "df_no_outliers['Recall'].hist(bins=20, alpha=0.7, label='After Filtering', ax=axs[1])\n",
    "axs[1].set_title('Recall')\n",
    "axs[1].legend()\n",
    "\n",
    "# Plot F1\n",
    "df['F1'].hist(bins=20, alpha=0.7, label='Before Filtering', ax=axs[2])\n",
    "df_no_outliers['F1'].hist(bins=20, alpha=0.7, label='After Filtering', ax=axs[2])\n",
    "axs[2].set_title('F1')\n",
    "axs[2].legend()\n",
    "\n",
    "plt.tight_layout(rect=[0, 0.03, 1, 0.95])\n",
    "plt.show()\n"
   ]
  },
  {
   "cell_type": "code",
   "execution_count": null,
   "id": "92f5d4d8",
   "metadata": {},
   "outputs": [],
   "source": []
  }
 ],
 "metadata": {
  "kernelspec": {
   "display_name": "Python 3 (ipykernel)",
   "language": "python",
   "name": "python3"
  },
  "language_info": {
   "codemirror_mode": {
    "name": "ipython",
    "version": 3
   },
   "file_extension": ".py",
   "mimetype": "text/x-python",
   "name": "python",
   "nbconvert_exporter": "python",
   "pygments_lexer": "ipython3",
   "version": "3.8.18"
  }
 },
 "nbformat": 4,
 "nbformat_minor": 5
}
